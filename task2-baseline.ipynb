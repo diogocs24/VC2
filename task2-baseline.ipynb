{
  "cells": [
    {
      "cell_type": "markdown",
      "metadata": {
        "id": "oaU9_sOGzRD1"
      },
      "source": [
        "# Task 2 Multiclass classification Baseline\n",
        "\n",
        "In this class, we will develop a baseline for Task 2 using the chess dataset. We will model the task as an multiclass classification task."
      ]
    },
    {
      "cell_type": "code",
      "execution_count": 1,
      "metadata": {
        "id": "dvfTDUXuzRD9"
      },
      "outputs": [],
      "source": [
        "import matplotlib.pyplot as plt, numpy as np, os, torch, random, cv2, json\n",
        "from torch import nn\n",
        "from torch.utils.data import DataLoader, Dataset\n",
        "import torch.nn.functional as F\n",
        "from torchvision import models\n",
        "from torchvision.transforms import v2 as transforms\n",
        "from sklearn.metrics import accuracy_score\n",
        "from tqdm import tqdm\n",
        "\n",
        "random.seed(42)"
      ]
    },
    {
      "cell_type": "markdown",
      "metadata": {
        "id": "BDBhCwhszREA"
      },
      "source": [
        "## Load dataset\n",
        "\n",
        "**Tip**: since the images are very big, resize the dataset before loading it to save time and memory during training (use cubic interpolation to preserve image quality when downsizing the images)!"
      ]
    },
    {
      "cell_type": "code",
      "execution_count": 2,
      "metadata": {
        "id": "w5IQVCmOzREB"
      },
      "outputs": [],
      "source": [
        "# Normalize images\n",
        "data_aug = transforms.Compose([\n",
        "    transforms.ToImage(),\n",
        "    transforms.Resize((256, 256)),\n",
        "    transforms.CenterCrop((224, 224)),\n",
        "    transforms.ToDtype(torch.float32, scale=True),\n",
        "    transforms.Normalize([0.485, 0.456, 0.406], [0.229, 0.224, 0.225])\n",
        "])\n",
        "\n",
        "data_in = transforms.Compose([\n",
        "    transforms.ToImage(),\n",
        "    transforms.Resize((256, 256)),\n",
        "    transforms.CenterCrop((224, 224)),\n",
        "    transforms.ToDtype(torch.float32, scale=True),\n",
        "    transforms.Normalize([0.485, 0.456, 0.406], [0.229, 0.224, 0.225])\n",
        "])"
      ]
    },
    {
      "cell_type": "code",
      "execution_count": 3,
      "metadata": {
        "colab": {
          "base_uri": "https://localhost:8080/"
        },
        "id": "juTsr3Lld8UT",
        "outputId": "4f307a21-f67a-4229-8c51-ea90ec364a25"
      },
      "outputs": [
        {
          "name": "stdout",
          "output_type": "stream",
          "text": [
            "Number of train images: 1442\n",
            "Number of valid images: 330\n",
            "Number of test images: 306\n"
          ]
        }
      ],
      "source": [
        "def chesspos2number(chesspos):\n",
        "    col = ord(chesspos[0])-ord('a')\n",
        "    row = int(chesspos[1])-1\n",
        "    return row, col\n",
        "\n",
        "class ChessDataset(Dataset):\n",
        "    def __init__(self, root_dir, partition, transform=None):\n",
        "        self.anns = json.load(open(os.path.join(root_dir, 'annotations.json')))\n",
        "        self.categories = [c['name'] for c in self.anns['categories']]\n",
        "        self.root = root_dir\n",
        "        self.ids = []\n",
        "        self.file_names = []\n",
        "        for x in self.anns['images']:\n",
        "            self.file_names.append(x['path'])\n",
        "            self.ids.append(x['id'])\n",
        "        self.file_names = np.asarray(self.file_names)\n",
        "        self.ids = np.asarray(self.ids)\n",
        "        self.boards = torch.zeros((len(self.file_names), 8, 8))\n",
        "        for piece in self.anns['annotations']['pieces']:\n",
        "            idx = np.where(self.ids == piece['image_id'])[0][0]\n",
        "            row, col = chesspos2number(piece['chessboard_position'])\n",
        "            self.boards[idx][row][col] = 1\n",
        "\n",
        "        if partition == 'train':\n",
        "            self.split_ids = np.asarray(self.anns['splits']['chessred2k']['train']['image_ids']).astype(int)\n",
        "        elif partition == 'valid':\n",
        "            self.split_ids = np.asarray(self.anns['splits']['chessred2k']['val']['image_ids']).astype(int)\n",
        "        else:\n",
        "            self.split_ids = np.asarray(self.anns['splits']['chessred2k']['test']['image_ids']).astype(int)\n",
        "\n",
        "        intersect = np.isin(self.ids, self.split_ids)\n",
        "        self.split_ids = np.where(intersect)[0]\n",
        "        self.file_names = self.file_names[self.split_ids]\n",
        "        self.boards = self.boards[self.split_ids]\n",
        "        self.num_pieces = torch.sum(self.boards.view(len(self.boards), 64), axis=-1)\n",
        "        self.num_pieces = F.one_hot(self.num_pieces.long()-1, 32)\n",
        "        self.ids = self.ids[self.split_ids]\n",
        "\n",
        "        self.transform = transform\n",
        "        print(f\"Number of {partition} images: {len(self.file_names)}\")\n",
        "\n",
        "    def __len__(self):\n",
        "        return len(self.file_names)\n",
        "\n",
        "    def __getitem__(self, i):\n",
        "        image = cv2.imread(os.path.join(self.root, self.file_names[i]))\n",
        "        image = cv2.cvtColor(image, cv2.COLOR_BGR2RGB)\n",
        "\n",
        "        if self.transform:\n",
        "            image = self.transform(image)\n",
        "\n",
        "        num_pieces = self.num_pieces[i]\n",
        "\n",
        "        return image, num_pieces.float()\n",
        "\n",
        "train_dataset = ChessDataset('', 'train', data_aug)\n",
        "valid_dataset = ChessDataset('', 'valid', data_in)\n",
        "test_dataset = ChessDataset('', 'test', data_in)"
      ]
    },
    {
      "cell_type": "code",
      "execution_count": 4,
      "metadata": {
        "colab": {
          "base_uri": "https://localhost:8080/"
        },
        "id": "MAYHXPnzd8UT",
        "outputId": "199a5237-a064-457b-da4f-a7184019595f"
      },
      "outputs": [
        {
          "name": "stdout",
          "output_type": "stream",
          "text": [
            "Using cuda device\n"
          ]
        }
      ],
      "source": [
        "# get cpu or gpu device for training\n",
        "device = \"cuda\" if torch.cuda.is_available() else \"cpu\"\n",
        "print(f\"Using {device} device\")\n",
        "\n",
        "# now we need to define a Dataloader, which allows us to automatically batch our inputs, do sampling and multiprocess data loading\n",
        "batch_size = 1\n",
        "num_workers = 0 # how many processes are used to load the data\n",
        "\n",
        "train_dataloader = DataLoader(train_dataset, batch_size=batch_size, shuffle=True, num_workers=num_workers, drop_last=True)\n",
        "valid_dataloader = DataLoader(valid_dataset, batch_size=batch_size, shuffle=False, num_workers=num_workers, drop_last=False)\n",
        "test_dataloader = DataLoader(test_dataset, batch_size=batch_size, shuffle=False, num_workers=num_workers, drop_last=False)"
      ]
    },
    {
      "cell_type": "code",
      "execution_count": 5,
      "metadata": {},
      "outputs": [
        {
          "name": "stdout",
          "output_type": "stream",
          "text": [
            "Batch 0 loaded in 0.13 seconds\n",
            "Batch 1 loaded in 0.10 seconds\n",
            "Batch 2 loaded in 0.09 seconds\n",
            "Batch 3 loaded in 0.09 seconds\n",
            "Batch 4 loaded in 0.10 seconds\n",
            "Batch 5 loaded in 0.09 seconds\n"
          ]
        }
      ],
      "source": [
        "import time\n",
        "start = time.time()\n",
        "for i, batch in enumerate(train_dataloader):\n",
        "    print(f\"Batch {i} loaded in {time.time() - start:.2f} seconds\")\n",
        "    if i >= 5:\n",
        "        break\n",
        "    start = time.time()"
      ]
    },
    {
      "cell_type": "code",
      "execution_count": 6,
      "metadata": {
        "colab": {
          "base_uri": "https://localhost:8080/",
          "height": 458
        },
        "id": "d7QP3jhCIKzh",
        "outputId": "5013df07-dc17-41ee-cefb-7123dc400687"
      },
      "outputs": [
        {
          "name": "stdout",
          "output_type": "stream",
          "text": [
            "torch.Size([1, 224, 224, 3])\n",
            "torch.Size([1, 32])\n",
            "tensor(30)\n"
          ]
        },
        {
          "data": {
            "image/png": "[encoded data removed]",
            "text/plain": [
              "<Figure size 640x480 with 1 Axes>"
            ]
          },
          "metadata": {},
          "output_type": "display_data"
        }
      ],
      "source": [
        "for batch in train_dataloader:\n",
        "    # Get images of the batch and print their dimensions\n",
        "    imgs = batch[0]\n",
        "    imgs = imgs.permute(0, 2, 3, 1)*torch.tensor([[[0.229, 0.224, 0.225]]]) + torch.tensor([[[0.485, 0.456, 0.406]]])\n",
        "    print(imgs.shape)\n",
        "\n",
        "    # Get labels of each image in the batch and print them\n",
        "    labels = batch[1]\n",
        "    print(labels.shape)\n",
        "    print(torch.argmax(labels[0])+1)\n",
        "\n",
        "    # Show first image of the batch\n",
        "    plt.imshow(imgs[0])\n",
        "    plt.axis('off')\n",
        "    plt.show()\n",
        "\n",
        "    break"
      ]
    },
    {
      "cell_type": "markdown",
      "metadata": {
        "id": "0aqWR_0VzRED"
      },
      "source": [
        "## Defining the model\n",
        "\n",
        "We will use a pre-trained ResNet50 network."
      ]
    },
    {
      "cell_type": "code",
      "execution_count": 7,
      "metadata": {
        "colab": {
          "base_uri": "https://localhost:8080/"
        },
        "id": "DfK3c9RSzRED",
        "outputId": "9cd92465-f107-4511-80a2-34f07fd16a33"
      },
      "outputs": [
        {
          "name": "stdout",
          "output_type": "stream",
          "text": [
            "Using cuda device\n"
          ]
        },
        {
          "name": "stderr",
          "output_type": "stream",
          "text": [
            "c:\\Users\\diogo\\anaconda3\\Lib\\site-packages\\torchvision\\models\\_utils.py:208: UserWarning: The parameter 'pretrained' is deprecated since 0.13 and may be removed in the future, please use 'weights' instead.\n",
            "  warnings.warn(\n",
            "c:\\Users\\diogo\\anaconda3\\Lib\\site-packages\\torchvision\\models\\_utils.py:223: UserWarning: Arguments other than a weight enum or `None` for 'weights' are deprecated since 0.13 and may be removed in the future. The current behavior is equivalent to passing `weights=ResNet50_Weights.IMAGENET1K_V1`. You can also use `weights=ResNet50_Weights.DEFAULT` to get the most up-to-date weights.\n",
            "  warnings.warn(msg)\n"
          ]
        },
        {
          "data": {
            "text/plain": [
              "ResNet(\n",
              "  (conv1): Conv2d(3, 64, kernel_size=(7, 7), stride=(2, 2), padding=(3, 3), bias=False)\n",
              "  (bn1): BatchNorm2d(64, eps=1e-05, momentum=0.1, affine=True, track_running_stats=True)\n",
              "  (relu): ReLU(inplace=True)\n",
              "  (maxpool): MaxPool2d(kernel_size=3, stride=2, padding=1, dilation=1, ceil_mode=False)\n",
              "  (layer1): Sequential(\n",
              "    (0): Bottleneck(\n",
              "      (conv1): Conv2d(64, 64, kernel_size=(1, 1), stride=(1, 1), bias=False)\n",
              "      (bn1): BatchNorm2d(64, eps=1e-05, momentum=0.1, affine=True, track_running_stats=True)\n",
              "      (conv2): Conv2d(64, 64, kernel_size=(3, 3), stride=(1, 1), padding=(1, 1), bias=False)\n",
              "      (bn2): BatchNorm2d(64, eps=1e-05, momentum=0.1, affine=True, track_running_stats=True)\n",
              "      (conv3): Conv2d(64, 256, kernel_size=(1, 1), stride=(1, 1), bias=False)\n",
              "      (bn3): BatchNorm2d(256, eps=1e-05, momentum=0.1, affine=True, track_running_stats=True)\n",
              "      (relu): ReLU(inplace=True)\n",
              "      (downsample): Sequential(\n",
              "        (0): Conv2d(64, 256, kernel_size=(1, 1), stride=(1, 1), bias=False)\n",
              "        (1): BatchNorm2d(256, eps=1e-05, momentum=0.1, affine=True, track_running_stats=True)\n",
              "      )\n",
              "    )\n",
              "    (1): Bottleneck(\n",
              "      (conv1): Conv2d(256, 64, kernel_size=(1, 1), stride=(1, 1), bias=False)\n",
              "      (bn1): BatchNorm2d(64, eps=1e-05, momentum=0.1, affine=True, track_running_stats=True)\n",
              "      (conv2): Conv2d(64, 64, kernel_size=(3, 3), stride=(1, 1), padding=(1, 1), bias=False)\n",
              "      (bn2): BatchNorm2d(64, eps=1e-05, momentum=0.1, affine=True, track_running_stats=True)\n",
              "      (conv3): Conv2d(64, 256, kernel_size=(1, 1), stride=(1, 1), bias=False)\n",
              "      (bn3): BatchNorm2d(256, eps=1e-05, momentum=0.1, affine=True, track_running_stats=True)\n",
              "      (relu): ReLU(inplace=True)\n",
              "    )\n",
              "    (2): Bottleneck(\n",
              "      (conv1): Conv2d(256, 64, kernel_size=(1, 1), stride=(1, 1), bias=False)\n",
              "      (bn1): BatchNorm2d(64, eps=1e-05, momentum=0.1, affine=True, track_running_stats=True)\n",
              "      (conv2): Conv2d(64, 64, kernel_size=(3, 3), stride=(1, 1), padding=(1, 1), bias=False)\n",
              "      (bn2): BatchNorm2d(64, eps=1e-05, momentum=0.1, affine=True, track_running_stats=True)\n",
              "      (conv3): Conv2d(64, 256, kernel_size=(1, 1), stride=(1, 1), bias=False)\n",
              "      (bn3): BatchNorm2d(256, eps=1e-05, momentum=0.1, affine=True, track_running_stats=True)\n",
              "      (relu): ReLU(inplace=True)\n",
              "    )\n",
              "  )\n",
              "  (layer2): Sequential(\n",
              "    (0): Bottleneck(\n",
              "      (conv1): Conv2d(256, 128, kernel_size=(1, 1), stride=(1, 1), bias=False)\n",
              "      (bn1): BatchNorm2d(128, eps=1e-05, momentum=0.1, affine=True, track_running_stats=True)\n",
              "      (conv2): Conv2d(128, 128, kernel_size=(3, 3), stride=(2, 2), padding=(1, 1), bias=False)\n",
              "      (bn2): BatchNorm2d(128, eps=1e-05, momentum=0.1, affine=True, track_running_stats=True)\n",
              "      (conv3): Conv2d(128, 512, kernel_size=(1, 1), stride=(1, 1), bias=False)\n",
              "      (bn3): BatchNorm2d(512, eps=1e-05, momentum=0.1, affine=True, track_running_stats=True)\n",
              "      (relu): ReLU(inplace=True)\n",
              "      (downsample): Sequential(\n",
              "        (0): Conv2d(256, 512, kernel_size=(1, 1), stride=(2, 2), bias=False)\n",
              "        (1): BatchNorm2d(512, eps=1e-05, momentum=0.1, affine=True, track_running_stats=True)\n",
              "      )\n",
              "    )\n",
              "    (1): Bottleneck(\n",
              "      (conv1): Conv2d(512, 128, kernel_size=(1, 1), stride=(1, 1), bias=False)\n",
              "      (bn1): BatchNorm2d(128, eps=1e-05, momentum=0.1, affine=True, track_running_stats=True)\n",
              "      (conv2): Conv2d(128, 128, kernel_size=(3, 3), stride=(1, 1), padding=(1, 1), bias=False)\n",
              "      (bn2): BatchNorm2d(128, eps=1e-05, momentum=0.1, affine=True, track_running_stats=True)\n",
              "      (conv3): Conv2d(128, 512, kernel_size=(1, 1), stride=(1, 1), bias=False)\n",
              "      (bn3): BatchNorm2d(512, eps=1e-05, momentum=0.1, affine=True, track_running_stats=True)\n",
              "      (relu): ReLU(inplace=True)\n",
              "    )\n",
              "    (2): Bottleneck(\n",
              "      (conv1): Conv2d(512, 128, kernel_size=(1, 1), stride=(1, 1), bias=False)\n",
              "      (bn1): BatchNorm2d(128, eps=1e-05, momentum=0.1, affine=True, track_running_stats=True)\n",
              "      (conv2): Conv2d(128, 128, kernel_size=(3, 3), stride=(1, 1), padding=(1, 1), bias=False)\n",
              "      (bn2): BatchNorm2d(128, eps=1e-05, momentum=0.1, affine=True, track_running_stats=True)\n",
              "      (conv3): Conv2d(128, 512, kernel_size=(1, 1), stride=(1, 1), bias=False)\n",
              "      (bn3): BatchNorm2d(512, eps=1e-05, momentum=0.1, affine=True, track_running_stats=True)\n",
              "      (relu): ReLU(inplace=True)\n",
              "    )\n",
              "    (3): Bottleneck(\n",
              "      (conv1): Conv2d(512, 128, kernel_size=(1, 1), stride=(1, 1), bias=False)\n",
              "      (bn1): BatchNorm2d(128, eps=1e-05, momentum=0.1, affine=True, track_running_stats=True)\n",
              "      (conv2): Conv2d(128, 128, kernel_size=(3, 3), stride=(1, 1), padding=(1, 1), bias=False)\n",
              "      (bn2): BatchNorm2d(128, eps=1e-05, momentum=0.1, affine=True, track_running_stats=True)\n",
              "      (conv3): Conv2d(128, 512, kernel_size=(1, 1), stride=(1, 1), bias=False)\n",
              "      (bn3): BatchNorm2d(512, eps=1e-05, momentum=0.1, affine=True, track_running_stats=True)\n",
              "      (relu): ReLU(inplace=True)\n",
              "    )\n",
              "  )\n",
              "  (layer3): Sequential(\n",
              "    (0): Bottleneck(\n",
              "      (conv1): Conv2d(512, 256, kernel_size=(1, 1), stride=(1, 1), bias=False)\n",
              "      (bn1): BatchNorm2d(256, eps=1e-05, momentum=0.1, affine=True, track_running_stats=True)\n",
              "      (conv2): Conv2d(256, 256, kernel_size=(3, 3), stride=(2, 2), padding=(1, 1), bias=False)\n",
              "      (bn2): BatchNorm2d(256, eps=1e-05, momentum=0.1, affine=True, track_running_stats=True)\n",
              "      (conv3): Conv2d(256, 1024, kernel_size=(1, 1), stride=(1, 1), bias=False)\n",
              "      (bn3): BatchNorm2d(1024, eps=1e-05, momentum=0.1, affine=True, track_running_stats=True)\n",
              "      (relu): ReLU(inplace=True)\n",
              "      (downsample): Sequential(\n",
              "        (0): Conv2d(512, 1024, kernel_size=(1, 1), stride=(2, 2), bias=False)\n",
              "        (1): BatchNorm2d(1024, eps=1e-05, momentum=0.1, affine=True, track_running_stats=True)\n",
              "      )\n",
              "    )\n",
              "    (1): Bottleneck(\n",
              "      (conv1): Conv2d(1024, 256, kernel_size=(1, 1), stride=(1, 1), bias=False)\n",
              "      (bn1): BatchNorm2d(256, eps=1e-05, momentum=0.1, affine=True, track_running_stats=True)\n",
              "      (conv2): Conv2d(256, 256, kernel_size=(3, 3), stride=(1, 1), padding=(1, 1), bias=False)\n",
              "      (bn2): BatchNorm2d(256, eps=1e-05, momentum=0.1, affine=True, track_running_stats=True)\n",
              "      (conv3): Conv2d(256, 1024, kernel_size=(1, 1), stride=(1, 1), bias=False)\n",
              "      (bn3): BatchNorm2d(1024, eps=1e-05, momentum=0.1, affine=True, track_running_stats=True)\n",
              "      (relu): ReLU(inplace=True)\n",
              "    )\n",
              "    (2): Bottleneck(\n",
              "      (conv1): Conv2d(1024, 256, kernel_size=(1, 1), stride=(1, 1), bias=False)\n",
              "      (bn1): BatchNorm2d(256, eps=1e-05, momentum=0.1, affine=True, track_running_stats=True)\n",
              "      (conv2): Conv2d(256, 256, kernel_size=(3, 3), stride=(1, 1), padding=(1, 1), bias=False)\n",
              "      (bn2): BatchNorm2d(256, eps=1e-05, momentum=0.1, affine=True, track_running_stats=True)\n",
              "      (conv3): Conv2d(256, 1024, kernel_size=(1, 1), stride=(1, 1), bias=False)\n",
              "      (bn3): BatchNorm2d(1024, eps=1e-05, momentum=0.1, affine=True, track_running_stats=True)\n",
              "      (relu): ReLU(inplace=True)\n",
              "    )\n",
              "    (3): Bottleneck(\n",
              "      (conv1): Conv2d(1024, 256, kernel_size=(1, 1), stride=(1, 1), bias=False)\n",
              "      (bn1): BatchNorm2d(256, eps=1e-05, momentum=0.1, affine=True, track_running_stats=True)\n",
              "      (conv2): Conv2d(256, 256, kernel_size=(3, 3), stride=(1, 1), padding=(1, 1), bias=False)\n",
              "      (bn2): BatchNorm2d(256, eps=1e-05, momentum=0.1, affine=True, track_running_stats=True)\n",
              "      (conv3): Conv2d(256, 1024, kernel_size=(1, 1), stride=(1, 1), bias=False)\n",
              "      (bn3): BatchNorm2d(1024, eps=1e-05, momentum=0.1, affine=True, track_running_stats=True)\n",
              "      (relu): ReLU(inplace=True)\n",
              "    )\n",
              "    (4): Bottleneck(\n",
              "      (conv1): Conv2d(1024, 256, kernel_size=(1, 1), stride=(1, 1), bias=False)\n",
              "      (bn1): BatchNorm2d(256, eps=1e-05, momentum=0.1, affine=True, track_running_stats=True)\n",
              "      (conv2): Conv2d(256, 256, kernel_size=(3, 3), stride=(1, 1), padding=(1, 1), bias=False)\n",
              "      (bn2): BatchNorm2d(256, eps=1e-05, momentum=0.1, affine=True, track_running_stats=True)\n",
              "      (conv3): Conv2d(256, 1024, kernel_size=(1, 1), stride=(1, 1), bias=False)\n",
              "      (bn3): BatchNorm2d(1024, eps=1e-05, momentum=0.1, affine=True, track_running_stats=True)\n",
              "      (relu): ReLU(inplace=True)\n",
              "    )\n",
              "    (5): Bottleneck(\n",
              "      (conv1): Conv2d(1024, 256, kernel_size=(1, 1), stride=(1, 1), bias=False)\n",
              "      (bn1): BatchNorm2d(256, eps=1e-05, momentum=0.1, affine=True, track_running_stats=True)\n",
              "      (conv2): Conv2d(256, 256, kernel_size=(3, 3), stride=(1, 1), padding=(1, 1), bias=False)\n",
              "      (bn2): BatchNorm2d(256, eps=1e-05, momentum=0.1, affine=True, track_running_stats=True)\n",
              "      (conv3): Conv2d(256, 1024, kernel_size=(1, 1), stride=(1, 1), bias=False)\n",
              "      (bn3): BatchNorm2d(1024, eps=1e-05, momentum=0.1, affine=True, track_running_stats=True)\n",
              "      (relu): ReLU(inplace=True)\n",
              "    )\n",
              "  )\n",
              "  (layer4): Sequential(\n",
              "    (0): Bottleneck(\n",
              "      (conv1): Conv2d(1024, 512, kernel_size=(1, 1), stride=(1, 1), bias=False)\n",
              "      (bn1): BatchNorm2d(512, eps=1e-05, momentum=0.1, affine=True, track_running_stats=True)\n",
              "      (conv2): Conv2d(512, 512, kernel_size=(3, 3), stride=(2, 2), padding=(1, 1), bias=False)\n",
              "      (bn2): BatchNorm2d(512, eps=1e-05, momentum=0.1, affine=True, track_running_stats=True)\n",
              "      (conv3): Conv2d(512, 2048, kernel_size=(1, 1), stride=(1, 1), bias=False)\n",
              "      (bn3): BatchNorm2d(2048, eps=1e-05, momentum=0.1, affine=True, track_running_stats=True)\n",
              "      (relu): ReLU(inplace=True)\n",
              "      (downsample): Sequential(\n",
              "        (0): Conv2d(1024, 2048, kernel_size=(1, 1), stride=(2, 2), bias=False)\n",
              "        (1): BatchNorm2d(2048, eps=1e-05, momentum=0.1, affine=True, track_running_stats=True)\n",
              "      )\n",
              "    )\n",
              "    (1): Bottleneck(\n",
              "      (conv1): Conv2d(2048, 512, kernel_size=(1, 1), stride=(1, 1), bias=False)\n",
              "      (bn1): BatchNorm2d(512, eps=1e-05, momentum=0.1, affine=True, track_running_stats=True)\n",
              "      (conv2): Conv2d(512, 512, kernel_size=(3, 3), stride=(1, 1), padding=(1, 1), bias=False)\n",
              "      (bn2): BatchNorm2d(512, eps=1e-05, momentum=0.1, affine=True, track_running_stats=True)\n",
              "      (conv3): Conv2d(512, 2048, kernel_size=(1, 1), stride=(1, 1), bias=False)\n",
              "      (bn3): BatchNorm2d(2048, eps=1e-05, momentum=0.1, affine=True, track_running_stats=True)\n",
              "      (relu): ReLU(inplace=True)\n",
              "    )\n",
              "    (2): Bottleneck(\n",
              "      (conv1): Conv2d(2048, 512, kernel_size=(1, 1), stride=(1, 1), bias=False)\n",
              "      (bn1): BatchNorm2d(512, eps=1e-05, momentum=0.1, affine=True, track_running_stats=True)\n",
              "      (conv2): Conv2d(512, 512, kernel_size=(3, 3), stride=(1, 1), padding=(1, 1), bias=False)\n",
              "      (bn2): BatchNorm2d(512, eps=1e-05, momentum=0.1, affine=True, track_running_stats=True)\n",
              "      (conv3): Conv2d(512, 2048, kernel_size=(1, 1), stride=(1, 1), bias=False)\n",
              "      (bn3): BatchNorm2d(2048, eps=1e-05, momentum=0.1, affine=True, track_running_stats=True)\n",
              "      (relu): ReLU(inplace=True)\n",
              "    )\n",
              "  )\n",
              "  (avgpool): AdaptiveAvgPool2d(output_size=(1, 1))\n",
              "  (fc): Linear(in_features=2048, out_features=32, bias=True)\n",
              ")"
            ]
          },
          "execution_count": 7,
          "metadata": {},
          "output_type": "execute_result"
        }
      ],
      "source": [
        "# Get device\n",
        "device = \"cuda\" if torch.cuda.is_available() else \"cpu\"\n",
        "print(f\"Using {device} device\")\n",
        "\n",
        "# Load pretrained ResNet-50\n",
        "model = models.resnet50(pretrained=True)\n",
        "\n",
        "# Replace final classification layer (default is 1000 for ImageNet)\n",
        "# You want 32 outputs — one for each possible number of pieces on the board (1 to 32)\n",
        "model.fc = nn.Linear(model.fc.in_features, 32)\n",
        "\n",
        "# Move model to device\n",
        "model.to(device)\n"
      ]
    },
    {
      "cell_type": "markdown",
      "metadata": {
        "id": "g1kRGiw_zREE"
      },
      "source": [
        "## Train the model"
      ]
    },
    {
      "cell_type": "markdown",
      "metadata": {
        "id": "mDxDXlXud8UU"
      },
      "source": [
        "Define function to perform one iteration"
      ]
    },
    {
      "cell_type": "code",
      "execution_count": 8,
      "metadata": {
        "id": "VxSdayviCWk5"
      },
      "outputs": [],
      "source": [
        "def train_one_batch(model, images, labels, optimizer, criterion, device):\n",
        "    model.train()\n",
        "    images = images.to(device)\n",
        "    labels = labels.to(device)\n",
        "\n",
        "    outputs = model(images)\n",
        "    loss = criterion(outputs, labels)\n",
        "\n",
        "    optimizer.zero_grad()\n",
        "    loss.backward()\n",
        "    optimizer.step()\n",
        "\n",
        "    return loss.item(), outputs"
      ]
    },
    {
      "cell_type": "markdown",
      "metadata": {
        "id": "NiUlq1FLd8UV"
      },
      "source": [
        "Define function to train a model"
      ]
    },
    {
      "cell_type": "code",
      "execution_count": 9,
      "metadata": {
        "id": "sPbGtpwIMuT7"
      },
      "outputs": [],
      "source": [
        "def validate_model(model, val_loader, criterion, device):\n",
        "    model.eval()\n",
        "    running_loss = 0.0\n",
        "    correct_preds = 0\n",
        "    total_samples = 0\n",
        "\n",
        "    with torch.no_grad():\n",
        "        val_bar = tqdm(val_loader, desc=\"Validation\", leave=False)\n",
        "        for images, labels in val_bar:\n",
        "            images = images.to(device)\n",
        "            labels = labels.to(device)\n",
        "\n",
        "            outputs = model(images)\n",
        "            loss = criterion(outputs, labels)\n",
        "\n",
        "            running_loss += loss.item() * images.size(0)\n",
        "\n",
        "            preds = torch.argmax(outputs, dim=1)\n",
        "            true_labels = torch.argmax(labels, dim=1)\n",
        "            correct_preds += (preds == true_labels).sum().item()\n",
        "            total_samples += labels.size(0)\n",
        "\n",
        "            avg_loss = running_loss / total_samples\n",
        "            avg_acc = correct_preds / total_samples\n",
        "            val_bar.set_postfix(loss=avg_loss, accuracy=avg_acc)\n",
        "\n",
        "    val_loss = running_loss / total_samples\n",
        "    val_acc = correct_preds / total_samples\n",
        "    print(f\"🔍Validation Loss: {val_loss:.4f} | Validation Accuracy: {val_acc:.4f}\")\n",
        "    return val_loss, val_acc\n",
        "\n",
        "def train_model(model, train_loader, val_loader, optimizer, criterion, device, num_epochs=10):\n",
        "    best_val_acc = 0.0\n",
        "    best_model_path = 'best_model.pth'\n",
        "\n",
        "    train_history = {'loss': [], 'accuracy': []}\n",
        "    val_history = {'loss': [], 'accuracy': []}\n",
        "\n",
        "    for epoch in range(num_epochs):\n",
        "        model.train()\n",
        "        running_loss = 0.0\n",
        "        correct_preds = 0\n",
        "        total_samples = 0\n",
        "\n",
        "        train_bar = tqdm(train_loader, desc=f\"Epoch {epoch+1}/{num_epochs} Training\")\n",
        "\n",
        "        for images, labels in train_bar:\n",
        "            loss, outputs = train_one_batch(model, images, labels, optimizer, criterion, device)\n",
        "            running_loss += loss * images.size(0)\n",
        "\n",
        "            preds = torch.argmax(outputs, dim=1)\n",
        "            true_labels = torch.argmax(labels, dim=1).to(device)\n",
        "            correct_preds += (preds == true_labels).sum().item()\n",
        "            total_samples += labels.size(0)\n",
        "\n",
        "            avg_loss = running_loss / total_samples\n",
        "            avg_acc = correct_preds / total_samples\n",
        "            train_bar.set_postfix(loss=avg_loss, accuracy=avg_acc)\n",
        "\n",
        "        train_history['loss'].append(avg_loss)\n",
        "        train_history['accuracy'].append(avg_acc)\n",
        "        print(f\"✔️Epoch {epoch+1} Train Loss: {avg_loss:.4f} | Train Accuracy: {avg_acc:.4f}\")\n",
        "\n",
        "        if val_loader:\n",
        "            val_loss, val_acc = validate_model(model, val_loader, criterion, device)\n",
        "            val_history['loss'].append(val_loss)\n",
        "            val_history['accuracy'].append(val_acc)\n",
        "\n",
        "            # Save best model\n",
        "            if val_acc > best_val_acc:\n",
        "                best_val_acc = val_acc\n",
        "                torch.save(model.state_dict(), best_model_path)\n",
        "                print(f\"Best model saved with accuracy: {best_val_acc:.4f}\")\n",
        "\n",
        "    return train_history, val_history"
      ]
    },
    {
      "cell_type": "markdown",
      "metadata": {
        "id": "73djngkzNkjD"
      },
      "source": [
        "Define loss, optimizer and train the model"
      ]
    },
    {
      "cell_type": "code",
      "execution_count": 10,
      "metadata": {
        "colab": {
          "base_uri": "https://localhost:8080/"
        },
        "id": "DmsUVGS6C0O1",
        "outputId": "19608392-0ab8-4a45-acee-e65a29b97bb4"
      },
      "outputs": [
        {
          "name": "stderr",
          "output_type": "stream",
          "text": [
            "Epoch 1/50 Training: 100%|██████████| 1442/1442 [03:59<00:00,  6.01it/s, accuracy=0.0964, loss=3.16]\n"
          ]
        },
        {
          "name": "stdout",
          "output_type": "stream",
          "text": [
            "✔️Epoch 1 Train Loss: 3.1593 | Train Accuracy: 0.0964\n"
          ]
        },
        {
          "name": "stderr",
          "output_type": "stream",
          "text": [
            "                                                                                        \r"
          ]
        },
        {
          "name": "stdout",
          "output_type": "stream",
          "text": [
            "🔍Validation Loss: 3.5208 | Validation Accuracy: 0.1121\n",
            "Best model saved with accuracy: 0.1121\n"
          ]
        },
        {
          "name": "stderr",
          "output_type": "stream",
          "text": [
            "Epoch 2/50 Training: 100%|██████████| 1442/1442 [03:52<00:00,  6.19it/s, accuracy=0.0992, loss=3.11]\n"
          ]
        },
        {
          "name": "stdout",
          "output_type": "stream",
          "text": [
            "✔️Epoch 2 Train Loss: 3.1120 | Train Accuracy: 0.0992\n"
          ]
        },
        {
          "name": "stderr",
          "output_type": "stream",
          "text": [
            "                                                                                        \r"
          ]
        },
        {
          "name": "stdout",
          "output_type": "stream",
          "text": [
            "🔍Validation Loss: 5.2460 | Validation Accuracy: 0.1121\n"
          ]
        },
        {
          "name": "stderr",
          "output_type": "stream",
          "text": [
            "Epoch 3/50 Training: 100%|██████████| 1442/1442 [03:43<00:00,  6.46it/s, accuracy=0.102, loss=3.08] \n"
          ]
        },
        {
          "name": "stdout",
          "output_type": "stream",
          "text": [
            "✔️Epoch 3 Train Loss: 3.0830 | Train Accuracy: 0.1019\n"
          ]
        },
        {
          "name": "stderr",
          "output_type": "stream",
          "text": [
            "                                                                                         \r"
          ]
        },
        {
          "name": "stdout",
          "output_type": "stream",
          "text": [
            "🔍Validation Loss: 6.2201 | Validation Accuracy: 0.0879\n"
          ]
        },
        {
          "name": "stderr",
          "output_type": "stream",
          "text": [
            "Epoch 4/50 Training: 100%|██████████| 1442/1442 [03:44<00:00,  6.42it/s, accuracy=0.123, loss=3.01]\n"
          ]
        },
        {
          "name": "stdout",
          "output_type": "stream",
          "text": [
            "✔️Epoch 4 Train Loss: 3.0051 | Train Accuracy: 0.1234\n"
          ]
        },
        {
          "name": "stderr",
          "output_type": "stream",
          "text": [
            "                                                                                        \r"
          ]
        },
        {
          "name": "stdout",
          "output_type": "stream",
          "text": [
            "🔍Validation Loss: 4.1345 | Validation Accuracy: 0.1212\n",
            "Best model saved with accuracy: 0.1212\n"
          ]
        },
        {
          "name": "stderr",
          "output_type": "stream",
          "text": [
            "Epoch 5/50 Training: 100%|██████████| 1442/1442 [03:52<00:00,  6.21it/s, accuracy=0.16, loss=2.87] \n"
          ]
        },
        {
          "name": "stdout",
          "output_type": "stream",
          "text": [
            "✔️Epoch 5 Train Loss: 2.8690 | Train Accuracy: 0.1595\n"
          ]
        },
        {
          "name": "stderr",
          "output_type": "stream",
          "text": [
            "                                                                                         \r"
          ]
        },
        {
          "name": "stdout",
          "output_type": "stream",
          "text": [
            "🔍Validation Loss: 3.9030 | Validation Accuracy: 0.0758\n"
          ]
        },
        {
          "name": "stderr",
          "output_type": "stream",
          "text": [
            "Epoch 6/50 Training: 100%|██████████| 1442/1442 [03:52<00:00,  6.20it/s, accuracy=0.169, loss=2.7] \n"
          ]
        },
        {
          "name": "stdout",
          "output_type": "stream",
          "text": [
            "✔️Epoch 6 Train Loss: 2.6998 | Train Accuracy: 0.1692\n"
          ]
        },
        {
          "name": "stderr",
          "output_type": "stream",
          "text": [
            "                                                                                         \r"
          ]
        },
        {
          "name": "stdout",
          "output_type": "stream",
          "text": [
            "🔍Validation Loss: 4.3548 | Validation Accuracy: 0.0485\n"
          ]
        },
        {
          "name": "stderr",
          "output_type": "stream",
          "text": [
            "Epoch 7/50 Training: 100%|██████████| 1442/1442 [03:51<00:00,  6.22it/s, accuracy=0.194, loss=2.55]\n"
          ]
        },
        {
          "name": "stdout",
          "output_type": "stream",
          "text": [
            "✔️Epoch 7 Train Loss: 2.5540 | Train Accuracy: 0.1942\n"
          ]
        },
        {
          "name": "stderr",
          "output_type": "stream",
          "text": [
            "                                                                                         \r"
          ]
        },
        {
          "name": "stdout",
          "output_type": "stream",
          "text": [
            "🔍Validation Loss: 4.1629 | Validation Accuracy: 0.0576\n"
          ]
        },
        {
          "name": "stderr",
          "output_type": "stream",
          "text": [
            "Epoch 8/50 Training: 100%|██████████| 1442/1442 [03:52<00:00,  6.19it/s, accuracy=0.215, loss=2.4] \n"
          ]
        },
        {
          "name": "stdout",
          "output_type": "stream",
          "text": [
            "✔️Epoch 8 Train Loss: 2.3981 | Train Accuracy: 0.2150\n"
          ]
        },
        {
          "name": "stderr",
          "output_type": "stream",
          "text": [
            "                                                                                          \r"
          ]
        },
        {
          "name": "stdout",
          "output_type": "stream",
          "text": [
            "🔍Validation Loss: 4.0794 | Validation Accuracy: 0.0061\n"
          ]
        },
        {
          "name": "stderr",
          "output_type": "stream",
          "text": [
            "Epoch 9/50 Training: 100%|██████████| 1442/1442 [03:52<00:00,  6.21it/s, accuracy=0.235, loss=2.27]\n"
          ]
        },
        {
          "name": "stdout",
          "output_type": "stream",
          "text": [
            "✔️Epoch 9 Train Loss: 2.2710 | Train Accuracy: 0.2351\n"
          ]
        },
        {
          "name": "stderr",
          "output_type": "stream",
          "text": [
            "                                                                                         \r"
          ]
        },
        {
          "name": "stdout",
          "output_type": "stream",
          "text": [
            "🔍Validation Loss: 4.9241 | Validation Accuracy: 0.0242\n"
          ]
        },
        {
          "name": "stderr",
          "output_type": "stream",
          "text": [
            "Epoch 10/50 Training: 100%|██████████| 1442/1442 [03:52<00:00,  6.21it/s, accuracy=0.277, loss=2.16]\n"
          ]
        },
        {
          "name": "stdout",
          "output_type": "stream",
          "text": [
            "✔️Epoch 10 Train Loss: 2.1644 | Train Accuracy: 0.2767\n"
          ]
        },
        {
          "name": "stderr",
          "output_type": "stream",
          "text": [
            "                                                                                          \r"
          ]
        },
        {
          "name": "stdout",
          "output_type": "stream",
          "text": [
            "🔍Validation Loss: 4.7913 | Validation Accuracy: 0.0182\n"
          ]
        },
        {
          "name": "stderr",
          "output_type": "stream",
          "text": [
            "Epoch 11/50 Training: 100%|██████████| 1442/1442 [03:53<00:00,  6.19it/s, accuracy=0.25, loss=2.11] \n"
          ]
        },
        {
          "name": "stdout",
          "output_type": "stream",
          "text": [
            "✔️Epoch 11 Train Loss: 2.1144 | Train Accuracy: 0.2503\n"
          ]
        },
        {
          "name": "stderr",
          "output_type": "stream",
          "text": [
            "                                                                                         \r"
          ]
        },
        {
          "name": "stdout",
          "output_type": "stream",
          "text": [
            "🔍Validation Loss: 4.0455 | Validation Accuracy: 0.0152\n"
          ]
        },
        {
          "name": "stderr",
          "output_type": "stream",
          "text": [
            "Epoch 12/50 Training: 100%|██████████| 1442/1442 [03:51<00:00,  6.24it/s, accuracy=0.3, loss=2.03]  \n"
          ]
        },
        {
          "name": "stdout",
          "output_type": "stream",
          "text": [
            "✔️Epoch 12 Train Loss: 2.0318 | Train Accuracy: 0.3003\n"
          ]
        },
        {
          "name": "stderr",
          "output_type": "stream",
          "text": [
            "                                                                                         \r"
          ]
        },
        {
          "name": "stdout",
          "output_type": "stream",
          "text": [
            "🔍Validation Loss: 4.5459 | Validation Accuracy: 0.0485\n"
          ]
        },
        {
          "name": "stderr",
          "output_type": "stream",
          "text": [
            "Epoch 13/50 Training: 100%|██████████| 1442/1442 [03:46<00:00,  6.37it/s, accuracy=0.324, loss=1.95]\n"
          ]
        },
        {
          "name": "stdout",
          "output_type": "stream",
          "text": [
            "✔️Epoch 13 Train Loss: 1.9490 | Train Accuracy: 0.3239\n"
          ]
        },
        {
          "name": "stderr",
          "output_type": "stream",
          "text": [
            "                                                                                         \r"
          ]
        },
        {
          "name": "stdout",
          "output_type": "stream",
          "text": [
            "🔍Validation Loss: 4.1501 | Validation Accuracy: 0.0394\n"
          ]
        },
        {
          "name": "stderr",
          "output_type": "stream",
          "text": [
            "Epoch 14/50 Training: 100%|██████████| 1442/1442 [03:51<00:00,  6.24it/s, accuracy=0.335, loss=1.88]\n"
          ]
        },
        {
          "name": "stdout",
          "output_type": "stream",
          "text": [
            "✔️Epoch 14 Train Loss: 1.8762 | Train Accuracy: 0.3350\n"
          ]
        },
        {
          "name": "stderr",
          "output_type": "stream",
          "text": [
            "                                                                                         \r"
          ]
        },
        {
          "name": "stdout",
          "output_type": "stream",
          "text": [
            "🔍Validation Loss: 4.1635 | Validation Accuracy: 0.0545\n"
          ]
        },
        {
          "name": "stderr",
          "output_type": "stream",
          "text": [
            "Epoch 15/50 Training: 100%|██████████| 1442/1442 [03:46<00:00,  6.37it/s, accuracy=0.356, loss=1.78]\n"
          ]
        },
        {
          "name": "stdout",
          "output_type": "stream",
          "text": [
            "✔️Epoch 15 Train Loss: 1.7848 | Train Accuracy: 0.3558\n"
          ]
        },
        {
          "name": "stderr",
          "output_type": "stream",
          "text": [
            "                                                                                         \r"
          ]
        },
        {
          "name": "stdout",
          "output_type": "stream",
          "text": [
            "🔍Validation Loss: 4.1986 | Validation Accuracy: 0.0242\n"
          ]
        },
        {
          "name": "stderr",
          "output_type": "stream",
          "text": [
            "Epoch 16/50 Training: 100%|██████████| 1442/1442 [03:45<00:00,  6.38it/s, accuracy=0.368, loss=1.73]\n"
          ]
        },
        {
          "name": "stdout",
          "output_type": "stream",
          "text": [
            "✔️Epoch 16 Train Loss: 1.7304 | Train Accuracy: 0.3675\n"
          ]
        },
        {
          "name": "stderr",
          "output_type": "stream",
          "text": [
            "                                                                                          \r"
          ]
        },
        {
          "name": "stdout",
          "output_type": "stream",
          "text": [
            "🔍Validation Loss: 4.5157 | Validation Accuracy: 0.0030\n"
          ]
        },
        {
          "name": "stderr",
          "output_type": "stream",
          "text": [
            "Epoch 17/50 Training: 100%|██████████| 1442/1442 [03:45<00:00,  6.40it/s, accuracy=0.389, loss=1.73]\n"
          ]
        },
        {
          "name": "stdout",
          "output_type": "stream",
          "text": [
            "✔️Epoch 17 Train Loss: 1.7279 | Train Accuracy: 0.3890\n"
          ]
        },
        {
          "name": "stderr",
          "output_type": "stream",
          "text": [
            "                                                                                         \r"
          ]
        },
        {
          "name": "stdout",
          "output_type": "stream",
          "text": [
            "🔍Validation Loss: 4.3541 | Validation Accuracy: 0.0333\n"
          ]
        },
        {
          "name": "stderr",
          "output_type": "stream",
          "text": [
            "Epoch 18/50 Training: 100%|██████████| 1442/1442 [03:46<00:00,  6.37it/s, accuracy=0.399, loss=1.61]\n"
          ]
        },
        {
          "name": "stdout",
          "output_type": "stream",
          "text": [
            "✔️Epoch 18 Train Loss: 1.6126 | Train Accuracy: 0.3994\n"
          ]
        },
        {
          "name": "stderr",
          "output_type": "stream",
          "text": [
            "                                                                                          \r"
          ]
        },
        {
          "name": "stdout",
          "output_type": "stream",
          "text": [
            "🔍Validation Loss: 4.4720 | Validation Accuracy: 0.0061\n"
          ]
        },
        {
          "name": "stderr",
          "output_type": "stream",
          "text": [
            "Epoch 19/50 Training: 100%|██████████| 1442/1442 [03:45<00:00,  6.39it/s, accuracy=0.417, loss=1.59]\n"
          ]
        },
        {
          "name": "stdout",
          "output_type": "stream",
          "text": [
            "✔️Epoch 19 Train Loss: 1.5939 | Train Accuracy: 0.4168\n"
          ]
        },
        {
          "name": "stderr",
          "output_type": "stream",
          "text": [
            "                                                                                         \r"
          ]
        },
        {
          "name": "stdout",
          "output_type": "stream",
          "text": [
            "🔍Validation Loss: 4.9635 | Validation Accuracy: 0.0212\n"
          ]
        },
        {
          "name": "stderr",
          "output_type": "stream",
          "text": [
            "Epoch 20/50 Training: 100%|██████████| 1442/1442 [03:44<00:00,  6.42it/s, accuracy=0.442, loss=1.52]\n"
          ]
        },
        {
          "name": "stdout",
          "output_type": "stream",
          "text": [
            "✔️Epoch 20 Train Loss: 1.5234 | Train Accuracy: 0.4424\n"
          ]
        },
        {
          "name": "stderr",
          "output_type": "stream",
          "text": [
            "                                                                                         \r"
          ]
        },
        {
          "name": "stdout",
          "output_type": "stream",
          "text": [
            "🔍Validation Loss: 5.1634 | Validation Accuracy: 0.0455\n"
          ]
        },
        {
          "name": "stderr",
          "output_type": "stream",
          "text": [
            "Epoch 21/50 Training: 100%|██████████| 1442/1442 [03:47<00:00,  6.35it/s, accuracy=0.472, loss=1.47]\n"
          ]
        },
        {
          "name": "stdout",
          "output_type": "stream",
          "text": [
            "✔️Epoch 21 Train Loss: 1.4682 | Train Accuracy: 0.4716\n"
          ]
        },
        {
          "name": "stderr",
          "output_type": "stream",
          "text": [
            "                                                                                         \r"
          ]
        },
        {
          "name": "stdout",
          "output_type": "stream",
          "text": [
            "🔍Validation Loss: 4.1655 | Validation Accuracy: 0.0333\n"
          ]
        },
        {
          "name": "stderr",
          "output_type": "stream",
          "text": [
            "Epoch 22/50 Training: 100%|██████████| 1442/1442 [03:44<00:00,  6.41it/s, accuracy=0.469, loss=1.43]\n"
          ]
        },
        {
          "name": "stdout",
          "output_type": "stream",
          "text": [
            "✔️Epoch 22 Train Loss: 1.4308 | Train Accuracy: 0.4695\n"
          ]
        },
        {
          "name": "stderr",
          "output_type": "stream",
          "text": [
            "                                                                                         \r"
          ]
        },
        {
          "name": "stdout",
          "output_type": "stream",
          "text": [
            "🔍Validation Loss: 5.0141 | Validation Accuracy: 0.0424\n"
          ]
        },
        {
          "name": "stderr",
          "output_type": "stream",
          "text": [
            "Epoch 23/50 Training: 100%|██████████| 1442/1442 [03:44<00:00,  6.42it/s, accuracy=0.485, loss=1.38]\n"
          ]
        },
        {
          "name": "stdout",
          "output_type": "stream",
          "text": [
            "✔️Epoch 23 Train Loss: 1.3780 | Train Accuracy: 0.4847\n"
          ]
        },
        {
          "name": "stderr",
          "output_type": "stream",
          "text": [
            "                                                                                          \r"
          ]
        },
        {
          "name": "stdout",
          "output_type": "stream",
          "text": [
            "🔍Validation Loss: 6.0206 | Validation Accuracy: 0.0152\n"
          ]
        },
        {
          "name": "stderr",
          "output_type": "stream",
          "text": [
            "Epoch 24/50 Training: 100%|██████████| 1442/1442 [03:47<00:00,  6.35it/s, accuracy=0.501, loss=1.33]\n"
          ]
        },
        {
          "name": "stdout",
          "output_type": "stream",
          "text": [
            "✔️Epoch 24 Train Loss: 1.3342 | Train Accuracy: 0.5014\n"
          ]
        },
        {
          "name": "stderr",
          "output_type": "stream",
          "text": [
            "                                                                                         \r"
          ]
        },
        {
          "name": "stdout",
          "output_type": "stream",
          "text": [
            "🔍Validation Loss: 4.9383 | Validation Accuracy: 0.0152\n"
          ]
        },
        {
          "name": "stderr",
          "output_type": "stream",
          "text": [
            "Epoch 25/50 Training: 100%|██████████| 1442/1442 [03:52<00:00,  6.21it/s, accuracy=0.51, loss=1.29] \n"
          ]
        },
        {
          "name": "stdout",
          "output_type": "stream",
          "text": [
            "✔️Epoch 25 Train Loss: 1.2939 | Train Accuracy: 0.5104\n"
          ]
        },
        {
          "name": "stderr",
          "output_type": "stream",
          "text": [
            "                                                                                          \r"
          ]
        },
        {
          "name": "stdout",
          "output_type": "stream",
          "text": [
            "🔍Validation Loss: 4.2407 | Validation Accuracy: 0.0152\n"
          ]
        },
        {
          "name": "stderr",
          "output_type": "stream",
          "text": [
            "Epoch 26/50 Training: 100%|██████████| 1442/1442 [03:45<00:00,  6.39it/s, accuracy=0.522, loss=1.24]\n"
          ]
        },
        {
          "name": "stdout",
          "output_type": "stream",
          "text": [
            "✔️Epoch 26 Train Loss: 1.2423 | Train Accuracy: 0.5222\n"
          ]
        },
        {
          "name": "stderr",
          "output_type": "stream",
          "text": [
            "                                                                                         \r"
          ]
        },
        {
          "name": "stdout",
          "output_type": "stream",
          "text": [
            "🔍Validation Loss: 4.6402 | Validation Accuracy: 0.0212\n"
          ]
        },
        {
          "name": "stderr",
          "output_type": "stream",
          "text": [
            "Epoch 27/50 Training: 100%|██████████| 1442/1442 [03:44<00:00,  6.41it/s, accuracy=0.546, loss=1.19]\n"
          ]
        },
        {
          "name": "stdout",
          "output_type": "stream",
          "text": [
            "✔️Epoch 27 Train Loss: 1.1936 | Train Accuracy: 0.5458\n"
          ]
        },
        {
          "name": "stderr",
          "output_type": "stream",
          "text": [
            "                                                                                         \r"
          ]
        },
        {
          "name": "stdout",
          "output_type": "stream",
          "text": [
            "🔍Validation Loss: 4.7366 | Validation Accuracy: 0.0424\n"
          ]
        },
        {
          "name": "stderr",
          "output_type": "stream",
          "text": [
            "Epoch 28/50 Training: 100%|██████████| 1442/1442 [03:50<00:00,  6.27it/s, accuracy=0.531, loss=1.19]\n"
          ]
        },
        {
          "name": "stdout",
          "output_type": "stream",
          "text": [
            "✔️Epoch 28 Train Loss: 1.1943 | Train Accuracy: 0.5305\n"
          ]
        },
        {
          "name": "stderr",
          "output_type": "stream",
          "text": [
            "                                                                                         \r"
          ]
        },
        {
          "name": "stdout",
          "output_type": "stream",
          "text": [
            "🔍Validation Loss: 4.6114 | Validation Accuracy: 0.0303\n"
          ]
        },
        {
          "name": "stderr",
          "output_type": "stream",
          "text": [
            "Epoch 29/50 Training: 100%|██████████| 1442/1442 [03:46<00:00,  6.37it/s, accuracy=0.559, loss=1.14]\n"
          ]
        },
        {
          "name": "stdout",
          "output_type": "stream",
          "text": [
            "✔️Epoch 29 Train Loss: 1.1388 | Train Accuracy: 0.5589\n"
          ]
        },
        {
          "name": "stderr",
          "output_type": "stream",
          "text": [
            "                                                                                         \r"
          ]
        },
        {
          "name": "stdout",
          "output_type": "stream",
          "text": [
            "🔍Validation Loss: 5.2628 | Validation Accuracy: 0.0455\n"
          ]
        },
        {
          "name": "stderr",
          "output_type": "stream",
          "text": [
            "Epoch 30/50 Training: 100%|██████████| 1442/1442 [03:45<00:00,  6.39it/s, accuracy=0.576, loss=1.14]\n"
          ]
        },
        {
          "name": "stdout",
          "output_type": "stream",
          "text": [
            "✔️Epoch 30 Train Loss: 1.1409 | Train Accuracy: 0.5756\n"
          ]
        },
        {
          "name": "stderr",
          "output_type": "stream",
          "text": [
            "                                                                                          \r"
          ]
        },
        {
          "name": "stdout",
          "output_type": "stream",
          "text": [
            "🔍Validation Loss: 5.2994 | Validation Accuracy: 0.0576\n"
          ]
        },
        {
          "name": "stderr",
          "output_type": "stream",
          "text": [
            "Epoch 31/50 Training: 100%|██████████| 1442/1442 [03:46<00:00,  6.37it/s, accuracy=0.589, loss=1.05]\n"
          ]
        },
        {
          "name": "stdout",
          "output_type": "stream",
          "text": [
            "✔️Epoch 31 Train Loss: 1.0535 | Train Accuracy: 0.5895\n"
          ]
        },
        {
          "name": "stderr",
          "output_type": "stream",
          "text": [
            "                                                                                         \r"
          ]
        },
        {
          "name": "stdout",
          "output_type": "stream",
          "text": [
            "🔍Validation Loss: 4.1534 | Validation Accuracy: 0.0273\n"
          ]
        },
        {
          "name": "stderr",
          "output_type": "stream",
          "text": [
            "Epoch 32/50 Training: 100%|██████████| 1442/1442 [03:45<00:00,  6.38it/s, accuracy=0.608, loss=1.02] \n"
          ]
        },
        {
          "name": "stdout",
          "output_type": "stream",
          "text": [
            "✔️Epoch 32 Train Loss: 1.0197 | Train Accuracy: 0.6082\n"
          ]
        },
        {
          "name": "stderr",
          "output_type": "stream",
          "text": [
            "                                                                                          \r"
          ]
        },
        {
          "name": "stdout",
          "output_type": "stream",
          "text": [
            "🔍Validation Loss: 5.0990 | Validation Accuracy: 0.0121\n"
          ]
        },
        {
          "name": "stderr",
          "output_type": "stream",
          "text": [
            "Epoch 33/50 Training: 100%|██████████| 1442/1442 [03:45<00:00,  6.39it/s, accuracy=0.627, loss=0.976]\n"
          ]
        },
        {
          "name": "stdout",
          "output_type": "stream",
          "text": [
            "✔️Epoch 33 Train Loss: 0.9761 | Train Accuracy: 0.6269\n"
          ]
        },
        {
          "name": "stderr",
          "output_type": "stream",
          "text": [
            "                                                                                          \r"
          ]
        },
        {
          "name": "stdout",
          "output_type": "stream",
          "text": [
            "🔍Validation Loss: 3.7572 | Validation Accuracy: 0.0515\n"
          ]
        },
        {
          "name": "stderr",
          "output_type": "stream",
          "text": [
            "Epoch 34/50 Training: 100%|██████████| 1442/1442 [03:46<00:00,  6.38it/s, accuracy=0.626, loss=0.965]\n"
          ]
        },
        {
          "name": "stdout",
          "output_type": "stream",
          "text": [
            "✔️Epoch 34 Train Loss: 0.9647 | Train Accuracy: 0.6255\n"
          ]
        },
        {
          "name": "stderr",
          "output_type": "stream",
          "text": [
            "                                                                                          \r"
          ]
        },
        {
          "name": "stdout",
          "output_type": "stream",
          "text": [
            "🔍Validation Loss: 5.1427 | Validation Accuracy: 0.0152\n"
          ]
        },
        {
          "name": "stderr",
          "output_type": "stream",
          "text": [
            "Epoch 35/50 Training: 100%|██████████| 1442/1442 [03:46<00:00,  6.37it/s, accuracy=0.672, loss=0.871]\n"
          ]
        },
        {
          "name": "stdout",
          "output_type": "stream",
          "text": [
            "✔️Epoch 35 Train Loss: 0.8707 | Train Accuracy: 0.6720\n"
          ]
        },
        {
          "name": "stderr",
          "output_type": "stream",
          "text": [
            "                                                                                         \r"
          ]
        },
        {
          "name": "stdout",
          "output_type": "stream",
          "text": [
            "🔍Validation Loss: 3.8587 | Validation Accuracy: 0.0758\n"
          ]
        },
        {
          "name": "stderr",
          "output_type": "stream",
          "text": [
            "Epoch 36/50 Training: 100%|██████████| 1442/1442 [03:46<00:00,  6.37it/s, accuracy=0.653, loss=0.926]\n"
          ]
        },
        {
          "name": "stdout",
          "output_type": "stream",
          "text": [
            "✔️Epoch 36 Train Loss: 0.9258 | Train Accuracy: 0.6526\n"
          ]
        },
        {
          "name": "stderr",
          "output_type": "stream",
          "text": [
            "                                                                                         \r"
          ]
        },
        {
          "name": "stdout",
          "output_type": "stream",
          "text": [
            "🔍Validation Loss: 5.9589 | Validation Accuracy: 0.0182\n"
          ]
        },
        {
          "name": "stderr",
          "output_type": "stream",
          "text": [
            "Epoch 37/50 Training: 100%|██████████| 1442/1442 [03:45<00:00,  6.39it/s, accuracy=0.699, loss=0.813]\n"
          ]
        },
        {
          "name": "stdout",
          "output_type": "stream",
          "text": [
            "✔️Epoch 37 Train Loss: 0.8134 | Train Accuracy: 0.6990\n"
          ]
        },
        {
          "name": "stderr",
          "output_type": "stream",
          "text": [
            "                                                                                          \r"
          ]
        },
        {
          "name": "stdout",
          "output_type": "stream",
          "text": [
            "🔍Validation Loss: 4.8229 | Validation Accuracy: 0.0121\n"
          ]
        },
        {
          "name": "stderr",
          "output_type": "stream",
          "text": [
            "Epoch 38/50 Training: 100%|██████████| 1442/1442 [03:50<00:00,  6.26it/s, accuracy=0.716, loss=0.79] \n"
          ]
        },
        {
          "name": "stdout",
          "output_type": "stream",
          "text": [
            "✔️Epoch 38 Train Loss: 0.7899 | Train Accuracy: 0.7157\n"
          ]
        },
        {
          "name": "stderr",
          "output_type": "stream",
          "text": [
            "                                                                                         \r"
          ]
        },
        {
          "name": "stdout",
          "output_type": "stream",
          "text": [
            "🔍Validation Loss: 3.9818 | Validation Accuracy: 0.0455\n"
          ]
        },
        {
          "name": "stderr",
          "output_type": "stream",
          "text": [
            "Epoch 39/50 Training: 100%|██████████| 1442/1442 [03:46<00:00,  6.36it/s, accuracy=0.73, loss=0.76]  \n"
          ]
        },
        {
          "name": "stdout",
          "output_type": "stream",
          "text": [
            "✔️Epoch 39 Train Loss: 0.7603 | Train Accuracy: 0.7295\n"
          ]
        },
        {
          "name": "stderr",
          "output_type": "stream",
          "text": [
            "                                                                                          \r"
          ]
        },
        {
          "name": "stdout",
          "output_type": "stream",
          "text": [
            "🔍Validation Loss: 5.2601 | Validation Accuracy: 0.0394\n"
          ]
        },
        {
          "name": "stderr",
          "output_type": "stream",
          "text": [
            "Epoch 40/50 Training: 100%|██████████| 1442/1442 [03:46<00:00,  6.37it/s, accuracy=0.719, loss=0.744]\n"
          ]
        },
        {
          "name": "stdout",
          "output_type": "stream",
          "text": [
            "✔️Epoch 40 Train Loss: 0.7437 | Train Accuracy: 0.7191\n"
          ]
        },
        {
          "name": "stderr",
          "output_type": "stream",
          "text": [
            "                                                                                         \r"
          ]
        },
        {
          "name": "stdout",
          "output_type": "stream",
          "text": [
            "🔍Validation Loss: 4.8557 | Validation Accuracy: 0.0394\n"
          ]
        },
        {
          "name": "stderr",
          "output_type": "stream",
          "text": [
            "Epoch 41/50 Training: 100%|██████████| 1442/1442 [03:51<00:00,  6.23it/s, accuracy=0.754, loss=0.68] \n"
          ]
        },
        {
          "name": "stdout",
          "output_type": "stream",
          "text": [
            "✔️Epoch 41 Train Loss: 0.6802 | Train Accuracy: 0.7538\n"
          ]
        },
        {
          "name": "stderr",
          "output_type": "stream",
          "text": [
            "                                                                                          \r"
          ]
        },
        {
          "name": "stdout",
          "output_type": "stream",
          "text": [
            "🔍Validation Loss: 4.6515 | Validation Accuracy: 0.0394\n"
          ]
        },
        {
          "name": "stderr",
          "output_type": "stream",
          "text": [
            "Epoch 42/50 Training: 100%|██████████| 1442/1442 [03:48<00:00,  6.30it/s, accuracy=0.764, loss=0.662]\n"
          ]
        },
        {
          "name": "stdout",
          "output_type": "stream",
          "text": [
            "✔️Epoch 42 Train Loss: 0.6622 | Train Accuracy: 0.7635\n"
          ]
        },
        {
          "name": "stderr",
          "output_type": "stream",
          "text": [
            "                                                                                         \r"
          ]
        },
        {
          "name": "stdout",
          "output_type": "stream",
          "text": [
            "🔍Validation Loss: 5.2402 | Validation Accuracy: 0.0333\n"
          ]
        },
        {
          "name": "stderr",
          "output_type": "stream",
          "text": [
            "Epoch 43/50 Training: 100%|██████████| 1442/1442 [03:46<00:00,  6.36it/s, accuracy=0.788, loss=0.578]\n"
          ]
        },
        {
          "name": "stdout",
          "output_type": "stream",
          "text": [
            "✔️Epoch 43 Train Loss: 0.5783 | Train Accuracy: 0.7878\n"
          ]
        },
        {
          "name": "stderr",
          "output_type": "stream",
          "text": [
            "                                                                                         \r"
          ]
        },
        {
          "name": "stdout",
          "output_type": "stream",
          "text": [
            "🔍Validation Loss: 4.6461 | Validation Accuracy: 0.0212\n"
          ]
        },
        {
          "name": "stderr",
          "output_type": "stream",
          "text": [
            "Epoch 44/50 Training: 100%|██████████| 1442/1442 [03:46<00:00,  6.37it/s, accuracy=0.793, loss=0.601]\n"
          ]
        },
        {
          "name": "stdout",
          "output_type": "stream",
          "text": [
            "✔️Epoch 44 Train Loss: 0.6013 | Train Accuracy: 0.7926\n"
          ]
        },
        {
          "name": "stderr",
          "output_type": "stream",
          "text": [
            "                                                                                          \r"
          ]
        },
        {
          "name": "stdout",
          "output_type": "stream",
          "text": [
            "🔍Validation Loss: 4.2581 | Validation Accuracy: 0.0879\n"
          ]
        },
        {
          "name": "stderr",
          "output_type": "stream",
          "text": [
            "Epoch 45/50 Training: 100%|██████████| 1442/1442 [03:45<00:00,  6.40it/s, accuracy=0.785, loss=0.608]\n"
          ]
        },
        {
          "name": "stdout",
          "output_type": "stream",
          "text": [
            "✔️Epoch 45 Train Loss: 0.6081 | Train Accuracy: 0.7850\n"
          ]
        },
        {
          "name": "stderr",
          "output_type": "stream",
          "text": [
            "                                                                                         \r"
          ]
        },
        {
          "name": "stdout",
          "output_type": "stream",
          "text": [
            "🔍Validation Loss: 5.2671 | Validation Accuracy: 0.0212\n"
          ]
        },
        {
          "name": "stderr",
          "output_type": "stream",
          "text": [
            "Epoch 46/50 Training: 100%|██████████| 1442/1442 [03:45<00:00,  6.39it/s, accuracy=0.827, loss=0.495]\n"
          ]
        },
        {
          "name": "stdout",
          "output_type": "stream",
          "text": [
            "✔️Epoch 46 Train Loss: 0.4951 | Train Accuracy: 0.8266\n"
          ]
        },
        {
          "name": "stderr",
          "output_type": "stream",
          "text": [
            "                                                                                         \r"
          ]
        },
        {
          "name": "stdout",
          "output_type": "stream",
          "text": [
            "🔍Validation Loss: 4.5442 | Validation Accuracy: 0.0818\n"
          ]
        },
        {
          "name": "stderr",
          "output_type": "stream",
          "text": [
            "Epoch 47/50 Training: 100%|██████████| 1442/1442 [03:46<00:00,  6.37it/s, accuracy=0.832, loss=0.503]\n"
          ]
        },
        {
          "name": "stdout",
          "output_type": "stream",
          "text": [
            "✔️Epoch 47 Train Loss: 0.5026 | Train Accuracy: 0.8322\n"
          ]
        },
        {
          "name": "stderr",
          "output_type": "stream",
          "text": [
            "                                                                                         \r"
          ]
        },
        {
          "name": "stdout",
          "output_type": "stream",
          "text": [
            "🔍Validation Loss: 4.2707 | Validation Accuracy: 0.0970\n"
          ]
        },
        {
          "name": "stderr",
          "output_type": "stream",
          "text": [
            "Epoch 48/50 Training: 100%|██████████| 1442/1442 [03:45<00:00,  6.40it/s, accuracy=0.827, loss=0.495]\n"
          ]
        },
        {
          "name": "stdout",
          "output_type": "stream",
          "text": [
            "✔️Epoch 48 Train Loss: 0.4951 | Train Accuracy: 0.8266\n"
          ]
        },
        {
          "name": "stderr",
          "output_type": "stream",
          "text": [
            "                                                                                          \r"
          ]
        },
        {
          "name": "stdout",
          "output_type": "stream",
          "text": [
            "🔍Validation Loss: 4.4241 | Validation Accuracy: 0.0606\n"
          ]
        },
        {
          "name": "stderr",
          "output_type": "stream",
          "text": [
            "Epoch 49/50 Training: 100%|██████████| 1442/1442 [03:45<00:00,  6.40it/s, accuracy=0.863, loss=0.393]\n"
          ]
        },
        {
          "name": "stdout",
          "output_type": "stream",
          "text": [
            "✔️Epoch 49 Train Loss: 0.3935 | Train Accuracy: 0.8634\n"
          ]
        },
        {
          "name": "stderr",
          "output_type": "stream",
          "text": [
            "                                                                                          \r"
          ]
        },
        {
          "name": "stdout",
          "output_type": "stream",
          "text": [
            "🔍Validation Loss: 5.3667 | Validation Accuracy: 0.0939\n"
          ]
        },
        {
          "name": "stderr",
          "output_type": "stream",
          "text": [
            "Epoch 50/50 Training: 100%|██████████| 1442/1442 [03:45<00:00,  6.40it/s, accuracy=0.883, loss=0.363]\n"
          ]
        },
        {
          "name": "stdout",
          "output_type": "stream",
          "text": [
            "✔️Epoch 50 Train Loss: 0.3626 | Train Accuracy: 0.8835\n"
          ]
        },
        {
          "name": "stderr",
          "output_type": "stream",
          "text": [
            "                                                                                         "
          ]
        },
        {
          "name": "stdout",
          "output_type": "stream",
          "text": [
            "🔍Validation Loss: 5.9105 | Validation Accuracy: 0.0758\n"
          ]
        },
        {
          "name": "stderr",
          "output_type": "stream",
          "text": [
            "\r"
          ]
        }
      ],
      "source": [
        "import torch.nn as nn\n",
        "import torch.optim as optim\n",
        "\n",
        "# Define loss function\n",
        "loss_fn = nn.CrossEntropyLoss()\n",
        "\n",
        "# Define optimizer\n",
        "optimizer = optim.Adam(model.parameters(), lr=1e-4)\n",
        "\n",
        "# Number of epochs\n",
        "num_epochs = 50\n",
        "\n",
        "# Train the model\n",
        "train_history, val_history = train_model(model, train_dataloader, valid_dataloader, optimizer, loss_fn, device, num_epochs)\n"
      ]
    },
    {
      "cell_type": "markdown",
      "metadata": {
        "id": "WrQMAKFHzREG"
      },
      "source": [
        "## Analyse training evolution"
      ]
    },
    {
      "cell_type": "markdown",
      "metadata": {
        "id": "P7W0PEy1d8UV"
      },
      "source": [
        "Plot loss and accuracy throughout training on train and validation data"
      ]
    },
    {
      "cell_type": "code",
      "execution_count": 11,
      "metadata": {
        "id": "xr48TEVlzREH"
      },
      "outputs": [],
      "source": [
        "def plot_training_history(train_history, val_history):\n",
        "    plt.figure(figsize=(12,5))\n",
        "\n",
        "    plt.subplot(1, 2, 1)\n",
        "    plt.plot(train_history['loss'], label='Train Loss')\n",
        "    plt.plot(val_history['loss'], label='Val Loss')\n",
        "    plt.title('Loss over epochs')\n",
        "    plt.xlabel('Epoch')\n",
        "    plt.ylabel('Loss')\n",
        "    plt.legend()\n",
        "\n",
        "    plt.subplot(1, 2, 2)\n",
        "    plt.plot(train_history['accuracy'], label='Train Accuracy')\n",
        "    plt.plot(val_history['accuracy'], label='Val Accuracy')\n",
        "    plt.title('Accuracy over epochs')\n",
        "    plt.xlabel('Epoch')\n",
        "    plt.ylabel('Accuracy')\n",
        "    plt.legend()\n",
        "\n",
        "    plt.tight_layout()\n",
        "    plt.show()"
      ]
    },
    {
      "cell_type": "code",
      "execution_count": 12,
      "metadata": {
        "colab": {
          "base_uri": "https://localhost:8080/",
          "height": 486
        },
        "id": "3GfeNPc4zREI",
        "outputId": "88e735b3-b4ef-4311-bff1-7e21d4062f5d"
      },
      "outputs": [
        {
          "data": {
            "image/png": "[encoded data removed]",
            "text/plain": [
              "<Figure size 1200x500 with 2 Axes>"
            ]
          },
          "metadata": {},
          "output_type": "display_data"
        }
      ],
      "source": [
        "plot_training_history(train_history, val_history)"
      ]
    },
    {
      "cell_type": "markdown",
      "metadata": {
        "id": "HPZLw5cfzREI"
      },
      "source": [
        "## Test the model\n",
        "\n",
        "Evaluate the model in the test set"
      ]
    },
    {
      "cell_type": "code",
      "execution_count": 13,
      "metadata": {},
      "outputs": [],
      "source": [
        "def test_model(model, test_loader, criterion, device):\n",
        "    model.eval()\n",
        "    running_loss = 0.0\n",
        "    correct_preds = 0\n",
        "    total_samples = 0\n",
        "\n",
        "    test_bar = tqdm(test_loader, desc=\"Testing\")\n",
        "\n",
        "    with torch.no_grad():\n",
        "        for images, labels in test_bar:\n",
        "            images = images.to(device)\n",
        "            labels = torch.argmax(labels, dim=1).to(device)\n",
        "\n",
        "            outputs = model(images)\n",
        "            loss = criterion(outputs, labels)\n",
        "\n",
        "            running_loss += loss.item() * images.size(0)\n",
        "            _, preds = torch.max(outputs, 1)\n",
        "            correct_preds += (preds == labels).sum().item()\n",
        "            total_samples += labels.size(0)\n",
        "\n",
        "            avg_loss = running_loss / total_samples\n",
        "            avg_acc = correct_preds / total_samples\n",
        "            test_bar.set_postfix(loss=avg_loss, acc=avg_acc)\n",
        "\n",
        "    test_loss = running_loss / total_samples\n",
        "    test_acc = correct_preds / total_samples\n",
        "\n",
        "    print(f\"\\nTest Loss: {test_loss:.4f} | Test Accuracy: {test_acc:.4f}\")\n"
      ]
    },
    {
      "cell_type": "code",
      "execution_count": 14,
      "metadata": {},
      "outputs": [],
      "source": [
        "def load_model(model, model_path, device):\n",
        "    model.load_state_dict(torch.load(model_path, map_location=device))\n",
        "    model.to(device)\n",
        "    model.eval()\n",
        "    print(f\"Loaded model from {model_path}\")"
      ]
    },
    {
      "cell_type": "code",
      "execution_count": 15,
      "metadata": {
        "colab": {
          "base_uri": "https://localhost:8080/"
        },
        "id": "UtmFHipizREK",
        "outputId": "ad2e59eb-264b-4802-f363-544ad73e1601"
      },
      "outputs": [
        {
          "name": "stdout",
          "output_type": "stream",
          "text": [
            "Loaded model from best_model.pth\n"
          ]
        },
        {
          "name": "stderr",
          "output_type": "stream",
          "text": [
            "Testing: 100%|██████████| 306/306 [00:43<00:00,  6.99it/s, accuracy=0.193, loss=3.26]"
          ]
        },
        {
          "name": "stdout",
          "output_type": "stream",
          "text": [
            "\n",
            "Test Loss: 3.2588 | Test Accuracy: 0.1928\n"
          ]
        },
        {
          "name": "stderr",
          "output_type": "stream",
          "text": [
            "\n"
          ]
        }
      ],
      "source": [
        "def test_model(model, test_loader, criterion, device):\n",
        "    model.eval()\n",
        "    running_loss = 0.0\n",
        "    correct_preds = 0\n",
        "    total_samples = 0\n",
        "\n",
        "    test_bar = tqdm(test_loader, desc=\"Testing\")\n",
        "\n",
        "    with torch.no_grad():\n",
        "        for images, labels in test_bar:\n",
        "            images = images.to(device)\n",
        "            labels = torch.argmax(labels, dim=1).to(device)\n",
        "\n",
        "            outputs = model(images)\n",
        "            loss = criterion(outputs, labels)\n",
        "\n",
        "            running_loss += loss.item() * images.size(0)\n",
        "            _, preds = torch.max(outputs, 1)\n",
        "            correct_preds += (preds == labels).sum().item()\n",
        "            total_samples += labels.size(0)\n",
        "\n",
        "            avg_loss = running_loss / total_samples\n",
        "            avg_acc = correct_preds / total_samples\n",
        "            test_bar.set_postfix(loss=avg_loss, accuracy=avg_acc)\n",
        "\n",
        "    test_loss = running_loss / total_samples\n",
        "    test_acc = correct_preds / total_samples\n",
        "\n",
        "    print(f\"\\nTest Loss: {test_loss:.4f} | Test Accuracy: {test_acc:.4f}\")\n",
        "    return test_loss, test_acc\n",
        "\n",
        "# Exemplo de uso:\n",
        "\n",
        "best_model_path = 'best_model.pth'  # caminho para o melhor modelo guardado\n",
        "\n",
        "# Carrega o modelo antes do teste\n",
        "load_model(model, best_model_path, device)\n",
        "\n",
        "# Avalia no conjunto de teste\n",
        "test_loss, test_acc = test_model(model, test_dataloader, loss_fn, device)"
      ]
    },
    {
      "cell_type": "markdown",
      "metadata": {
        "id": "Oq-C6glKseuO"
      },
      "source": [
        "## Challenge\n",
        "\n",
        "In transfer learning, we often replace the head of the model (fully-connected layers responsible for classification) to fit the task. However, these new layers are not pre-trained and thus they contain an error that is backpropagated through the pre-trained part of the network during training. We can avoid this through a training strategy that is divided into two steps:\n",
        "* Freeze the pre-trained layers of the network so that their parameters are no longer updated during training and train only the head of the model\n",
        "* Unfreeze these layers and train the network as a whole.\n",
        "\n",
        "Implement this strategy and see the results!"
      ]
    },
    {
      "cell_type": "markdown",
      "metadata": {
        "id": "WumfC2EWIKzm"
      },
      "source": [
        "## For Group Project - Task 2: Adapt multiclass classification network to regression!\n",
        "\n",
        "Now that you have a multiclass baseline, adapt the network for the regression problem, considering the following aspects:\n",
        "* How many neurons should the last layer of a regression network have?\n",
        "* What should be the final activation function for a regression network?\n",
        "* What loss functions can be used to train a regression network?"
      ]
    },
    {
      "cell_type": "markdown",
      "metadata": {},
      "source": []
    }
  ],
  "metadata": {
    "accelerator": "GPU",
    "colab": {
      "gpuType": "T4",
      "provenance": []
    },
    "kernelspec": {
      "display_name": "base",
      "language": "python",
      "name": "python3"
    },
    "language_info": {
      "codemirror_mode": {
        "name": "ipython",
        "version": 3
      },
      "file_extension": ".py",
      "mimetype": "text/x-python",
      "name": "python",
      "nbconvert_exporter": "python",
      "pygments_lexer": "ipython3",
      "version": "3.11.7"
    }
  },
  "nbformat": 4,
  "nbformat_minor": 0
}
